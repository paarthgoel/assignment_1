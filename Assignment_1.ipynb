{
 "cells": [
  {
   "cell_type": "markdown",
   "metadata": {},
   "source": [
    "## Assignment_1\n"
   ]
  },
  {
   "cell_type": "code",
   "execution_count": 1,
   "metadata": {},
   "outputs": [
    {
     "name": "stdout",
     "output_type": "stream",
     "text": [
      "Hello world\n"
     ]
    }
   ],
   "source": [
    "#Q1.\n",
    "print(\"Hello world\")"
   ]
  },
  {
   "cell_type": "code",
   "execution_count": 2,
   "metadata": {},
   "outputs": [
    {
     "name": "stdout",
     "output_type": "stream",
     "text": [
      "enter your number: 20\n",
      "enter the other number: 10\n",
      "addition of 20 and 10 is : 30\n",
      "division of 20 and 10 is : 2.0\n"
     ]
    }
   ],
   "source": [
    "#Q2.\n",
    "a = int(input(\"enter your number: \"))\n",
    "b = int(input(\"enter the other number: \"))\n",
    "c = a+b\n",
    "d = a/b\n",
    "print(\"addition of {} and {} is : {}\".format(a,b,c))\n",
    "print(\"division of {} and {} is : {}\".format(a,b,d))"
   ]
  },
  {
   "cell_type": "code",
   "execution_count": 2,
   "metadata": {},
   "outputs": [
    {
     "name": "stdout",
     "output_type": "stream",
     "text": [
      "Enter the height of the triangle: 10\n",
      "Enter the base of the triangle: 20\n",
      "Area of the triangle is: 100.0\n"
     ]
    }
   ],
   "source": [
    "#Q3.\n",
    "h = int(input(\"Enter the height of the triangle: \"))\n",
    "b = int(input(\"Enter the base of the triangle: \"))\n",
    "a = (h*b)/2\n",
    "print(\"Area of the triangle is: {}\".format(a))"
   ]
  },
  {
   "cell_type": "code",
   "execution_count": 6,
   "metadata": {},
   "outputs": [
    {
     "name": "stdout",
     "output_type": "stream",
     "text": [
      "Enter the first variable to swap: 10\n",
      "Enter the second variable to swap: 20\n",
      "value of x now is 20\n",
      "value of y now is 10\n"
     ]
    }
   ],
   "source": [
    "#Q4.\n",
    "x = int(input(\"Enter the first variable to swap: \"))\n",
    "y = int(input(\"Enter the second variable to swap: \"))\n",
    "temp = x\n",
    "x = y \n",
    "y = temp\n",
    "print(\"value of x now is {}\".format(x))\n",
    "print(\"value of y now is {}\".format(y))"
   ]
  },
  {
   "cell_type": "code",
   "execution_count": 9,
   "metadata": {},
   "outputs": [
    {
     "name": "stdout",
     "output_type": "stream",
     "text": [
      "6\n"
     ]
    }
   ],
   "source": [
    "#Q5.\n",
    "import random\n",
    "print(random.randint(0,9))"
   ]
  },
  {
   "cell_type": "code",
   "execution_count": null,
   "metadata": {},
   "outputs": [],
   "source": []
  }
 ],
 "metadata": {
  "kernelspec": {
   "display_name": "Python 3",
   "language": "python",
   "name": "python3"
  },
  "language_info": {
   "codemirror_mode": {
    "name": "ipython",
    "version": 3
   },
   "file_extension": ".py",
   "mimetype": "text/x-python",
   "name": "python",
   "nbconvert_exporter": "python",
   "pygments_lexer": "ipython3",
   "version": "3.8.5"
  }
 },
 "nbformat": 4,
 "nbformat_minor": 4
}
